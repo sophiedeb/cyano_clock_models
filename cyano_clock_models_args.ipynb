{
 "cells": [
  {
   "cell_type": "code",
   "execution_count": 1,
   "id": "8ebe7a6b",
   "metadata": {},
   "outputs": [],
   "source": [
    "run_full_notebook_fast = True"
   ]
  },
  {
   "cell_type": "markdown",
   "id": "ba83ae20",
   "metadata": {},
   "source": [
    "This notebook provides the code for the preprint:\n",
    "\n",
    "Based on: \n",
    "\n",
    "Mixtures of opposing phosphorylations within hexamers precisely time feedback in the cyanobacterial circadian clock\n",
    "\n",
    "Jenny Lin , Justin Chew , Udaysankar Chockanathan , and Michael J. Rust\n",
    "\n",
    "www.pnas.org/cgi/doi/10.1073/pnas.1408692111\n",
    "\n",
    "\n",
    "Robust Circadian Oscillations in Growing Cyanobacteria Require Transcriptional Feedback\n",
    "\n",
    "Shu-Wen Teng, Shankar Mukherji, Jeffrey R. Moffitt, Sophie de Buyl, Erin K. O'Shea, \n",
    "\n",
    "https://www.sciencemag.org/lookup/doi/10.1126/science.1230996"
   ]
  },
  {
   "cell_type": "markdown",
   "id": "87c4b0b5",
   "metadata": {},
   "source": [
    "# Introduction"
   ]
  },
  {
   "cell_type": "markdown",
   "id": "2f412f52",
   "metadata": {
    "heading_collapsed": true
   },
   "source": [
    "## Explanation of how we encoded the dynamical variables "
   ]
  },
  {
   "cell_type": "markdown",
   "id": "46c3805a",
   "metadata": {
    "hidden": true
   },
   "source": [
    "<b> The in vitro model describes the phosphorylation-dephosphorylation processes of KaiC </b>\n",
    "\n",
    "$\\text{KaiC}$ is an hexameric protein. Each of the 6 $KaiC$ subunits can be phosphoroylated at two residues. This makes various different phosphophorms for $\\text{KaiC}$. To describe them, we rely on the notation of  [Lin et al, 2014]:\n",
    "\n",
    "$$ \\text{KaiC}_{ijk}$$\n",
    "\n",
    "where $i$ indicates how many subunits are phosphorylated at residu $T$, $j$ how many are phosphorylated at residu $S$ and $k$ how many are doubly phosphorylated. \n",
    "\n",
    "By construction, we have too many variables because one needs to have $i+j+k \\leq n$.\n",
    "\n",
    "Examples \n",
    "\n",
    "For $n=1$, we have the following variables which are describing the different phosphoforms: $\\text{KaiC}_{000} = U$, $\\text{KaiC}_{100} = T,\\text{KaiC}_{010} = S$ and $\\text{KaiC}_{001}= D$ while KaiC110, KaiC101, KaiC011 and KaiC111 are non physical variables which are set to zero. Indeed, for instance KaiC110 should be put to zero as we can not have our only KaiC molecule to be at the same time only phosphorylated at T and only phosphorylated at S.  \n",
    "\n",
    "For $n=2$ (pretending we have dimers instead of hexamers), we have the following 10 phosphoforms of $\\text{KaiC}$:\n",
    "$\\text{KaiC}_{000}, \\text{KaiC}_{100}, \\text{KaiC}_{010}, \\text{KaiC}_{001}, \\text{KaiC}_{200}, \\text{KaiC}_{020}, \\text{KaiC}_{110}, \\text{KaiC}_{101}, \\text{KaiC}_{011}, \\text{KaiC}_{002}$. \n",
    "\n",
    "\n",
    "The fully phosphorylated form of KaiC is encoded in KaiC$_{00n}$. \n",
    "\n",
    "For the purpose of the implementation, [Lin et al, 2014] relies on an array $C$ which encodes all phosphoforms: \n",
    "\n",
    "$$C[i*(n+1)^2 + j*(n+1) + k ] \\, = \\, \\text{KaiC}_{ijk}$$\n",
    "\n",
    "The length of this vector is $n \\, (n+1)^2 + n \\, (n+1) + n$. It contains many non physical variables (e.g. KaiC${}_{nnn}$). \n",
    "\n",
    "The other variables are $\\text{KaiC}$ bound to $\\text{KaiB}$ in its different phosphorms. They are denoted by $\\text{KaiC} \\cdot \\text{KaiB}_{ijk} $ and encoded in $C[(n+1)^3 + i*(n+1)^2 + j*(n+1) + k ]$. \n",
    "\n",
    "Finally for the <i> in vivo </i> case, we have an extra compentent to $C$ for mRNA. $C$ has therefore length $2 (n (n+1)^2 + n(n+1) + n) + 1 $. \n",
    "\n",
    "To speed up the code, we established functions to map the i,j,k indices onto physical only indices (see compute_index, compute_index_KaiB, def_C_indices_double in cyano_clock_models_args.py). \n",
    "\n",
    "<b> !!! This code has been written in such a way that you need to fix the number of subunits $n$ at the beginning, if you want to change $n$, please relaunch the kernel !!! </b>\n"
   ]
  },
  {
   "cell_type": "markdown",
   "id": "3055d1f1",
   "metadata": {
    "heading_collapsed": true
   },
   "source": [
    "## Load packages and technical functions"
   ]
  },
  {
   "cell_type": "code",
   "execution_count": 2,
   "id": "99f4bc99",
   "metadata": {
    "hidden": true
   },
   "outputs": [
    {
     "name": "stdout",
     "output_type": "stream",
     "text": [
      "number of cores is  10\n"
     ]
    }
   ],
   "source": [
    "import numpy as np\n",
    "from numpy import math\n",
    "import scipy\n",
    "import matplotlib\n",
    "from scipy.integrate import odeint\n",
    "import matplotlib.pyplot as plt\n",
    "from scipy.signal import argrelextrema\n",
    "from scipy.optimize import fsolve\n",
    "from numpy import logspace\n",
    "from pylab import scatter\n",
    "\n",
    "from scipy.integrate import solve_ivp\n",
    "\n",
    "import multiprocessing\n",
    "import itertools\n",
    "\n",
    "\n",
    "number_of_cores = multiprocessing.cpu_count()\n",
    "print('number of cores is ',number_of_cores)\n",
    "tmax=240\n",
    "\n",
    "#the following lines are useful for the integrator (in case of exploding solutions)\n",
    "threshold_kaiC=600\n",
    "\n",
    "\n",
    "n=6\n",
    "\n",
    "from cyano_clock_models_args import compute_index,def_ijk_combinations,def_full_phospohate\n",
    "from cyano_clock_models_args import def_only_T_phospho, def_only_S_phospho, def_only_D_phospho\n",
    "from cyano_clock_models_args import hit_ground\n",
    "\n",
    "full_phospohate = def_full_phospohate(n)\n",
    "ijk_combinations = def_ijk_combinations(n)\n",
    "only_T_phospho = def_only_T_phospho(n)\n",
    "only_S_phospho = def_only_S_phospho(n)\n",
    "only_D_phospho = def_only_D_phospho(n)\n",
    "\n",
    "from cyano_clock_models_args import def_C_indices_double\n",
    "C_indices_double =  def_C_indices_double(6)[0]\n",
    "\n",
    "\n",
    "from cyano_clock_models_args import estimate_period, matrix_reconstruction\n",
    "from cyano_clock_models_args import twodscan_figure\n"
   ]
  },
  {
   "cell_type": "markdown",
   "id": "ef537d8a",
   "metadata": {
    "heading_collapsed": true
   },
   "source": [
    "## Default values for parameters and saving parameter values function"
   ]
  },
  {
   "cell_type": "code",
   "execution_count": 3,
   "id": "eccaf041",
   "metadata": {
    "hidden": true
   },
   "outputs": [],
   "source": [
    "scale_fact = 1 #! was introduced to be able to change units - not fully implemented, so need to stay egal to one. \n",
    "\n",
    "\n",
    "km_V =0.43 #!!! this is called Km in Lin's paper \n",
    "kaiC_V =3.6\n",
    "\n",
    "k0UT_V = 0.0\n",
    "k0TU_V = .21\n",
    "k0TD_V = 0.0\n",
    "k0DT_V = 0.0\n",
    "k0SD_V = 0.0 \n",
    "k0DS_V = .31\n",
    "k0SU_V = 0.11\n",
    "k0US_V = 0.0 \n",
    "\n",
    "kactUT_V = 0.48\n",
    "kactTU_V = 0.29\n",
    "kactTD_V = 0.21\n",
    "kactDT_V = 0.172\n",
    "kactDS_V = 0\n",
    "kactSD_V = 0.506\n",
    "kactSU_V = 0.0\n",
    "kactUS_V = 0.0532\n",
    "\n",
    "konB_V = 0.15\n",
    "koffB_V =0.03\n",
    "deltaGpS_V =-3.5\n",
    "deltaGpT_V =2.0\n",
    "deltaGpSpT_V =-1.0\n",
    "deltaGU_V =1.0\n",
    "\n",
    "\n",
    "#in vitro names\n",
    "params_names = ['konB','koffB','deltaGpT','deltaGpTS','deltaGpSpT','deltaGU','km','kaiC','kaiA0','k0UT','k0TD','k0US','k0SD','k0DS','k0DT','k0TU','k0SU','kactUT', 'kactTD','kactUS','kactSD','kactDS','kactDT','kactTU','kactSU']\n",
    "\n",
    "\n",
    "\n",
    "#in vivo parameters\n",
    "Vsptr_V=0.03316*scale_fact\n",
    "Vs_V =.004# 2*scale_fact\n",
    "Vm_V = .2*scale_fact\n",
    "Km_V= .2 #(0.2 for in vivo??)\n",
    "#Ks_V=8#2.7\n",
    "M0_V=0.037\n",
    "K_V = 2.0\n",
    "#Vd_V=.0078*scale_fact\n",
    "Ki_V = 1.0\n",
    "V_V = 0.002\n",
    "Ks_V = 0.2\n",
    "Vd_V =0.0046\n",
    "kaiA0_V = 10\n",
    "\n",
    "\n",
    "#feedback !! not included in the list of parameters => be careful it is a global parameter - however it is not much used..\n",
    "cD_V = .3\n",
    "cT_V = .5\n",
    "cS_V = 1.0\n",
    "cU_V = 0.9\n",
    "\n",
    "paramsk0_names = 'k0UT','k0TD','k0US','k0SD','k0DS','k0DT','k0TU','k0SU'\n",
    "paramskact_names = 'kactUT', 'kactTD', 'kactUS', 'kactSD', 'kactDS', 'kactDT', 'kactTU', 'kactSU'\n",
    "paramsDelta_names = 'deltaGpT', 'deltaGpS', 'deltaGpSpT', 'deltaGU'\n",
    "params_vivo_names = 'Vsptr', 'Vs','Vm', 'Km', 'Ks', 'K', 'V', 'Vd','Ki'\n",
    "params_names='konB', 'koffB', paramsDelta_names, 'km', 'kaiA0', paramsk0_names, paramskact_names, params_vivo_names\n",
    "\n",
    "paramsk0_V = k0UT_V,k0TD_V,k0US_V,k0SD_V,k0DS_V,k0DT_V,k0TU_V,k0SU_V\n",
    "paramskact_V = kactUT_V, kactTD_V, kactUS_V, kactSD_V, kactDS_V, kactDT_V, kactTU_V, kactSU_V\n",
    "paramsDelta_V = deltaGpT_V, deltaGpS_V, deltaGpSpT_V, deltaGU_V\n",
    "params_vivo_V = Vsptr_V, Vs_V, Vm_V, Km_V, Ks_V, K_V, V_V, Vd_V, Ki_V\n",
    "params_V = konB_V, koffB_V, paramsDelta_V, km_V, kaiA0_V, paramsk0_V, paramskact_V, params_vivo_V\n",
    " "
   ]
  },
  {
   "cell_type": "code",
   "execution_count": 4,
   "id": "7e6a4e9e",
   "metadata": {
    "hidden": true
   },
   "outputs": [
    {
     "name": "stdout",
     "output_type": "stream",
     "text": [
      "konB   0.15\n",
      "koffB   0.03\n",
      "deltaGpT   2.0\n",
      "deltaGpS   -3.5\n",
      "deltaGpSpT   -1.0\n",
      "deltaGU   1.0\n",
      "km   0.43\n",
      "kaiA0   10.0\n",
      "k0UT   0.0\n",
      "k0TD   0.0\n",
      "k0US   0.0\n",
      "k0SD   0.0\n",
      "k0DS   0.31\n",
      "k0DT   0.0\n",
      "k0TU   0.21\n",
      "k0SU   0.11\n",
      "kactUT   0.48\n",
      "kactTD   0.21\n",
      "kactUS   0.0532\n",
      "kactSD   0.506\n",
      "kactDS   0.0\n",
      "kactDT   0.172\n",
      "kactTU   0.29\n",
      "kactSU   0.0\n",
      "Vsptr   0.03316\n",
      "Vs   0.004\n",
      "Vm   0.2\n",
      "Km   0.2\n",
      "Ks   0.2\n",
      "K   2.0\n",
      "V   0.002\n",
      "Vd   0.0046\n",
      "Ki   1.0\n"
     ]
    }
   ],
   "source": [
    "   # printing default values:    \n",
    "l2 = [([x] if isinstance(x,str) else x) for x in params_names]\n",
    "params_names_flat = list(itertools.chain(*l2))\n",
    "params_V_flat = np.hstack(params_V)\n",
    "\n",
    "for kk in range(len(params_names_flat)):\n",
    "    print(params_names_flat[kk],' ',params_V_flat[kk])"
   ]
  },
  {
   "cell_type": "code",
   "execution_count": 9,
   "id": "28944254",
   "metadata": {
    "hidden": true
   },
   "outputs": [],
   "source": [
    "#run only once... \n",
    "\n",
    "if False: \n",
    "    file = './results/default_params.txt'\n",
    "    kk=0\n",
    "    line =  params_names_flat[kk]+' '+'%.3E' % (params_V_flat[kk]) + ' \\n'\n",
    "    for kk in range(1,len(params_names_flat)):\n",
    "        #line = params_names_flat[kk]+' '+params_V_flat[kk]\n",
    "        line +=  params_names_flat[kk]+' '+'%.3E' % (params_V_flat[kk]) + ' \\n'\n",
    "    with open(file, 'w') as f:\n",
    "        f.write(''.join(line))\n"
   ]
  },
  {
   "cell_type": "code",
   "execution_count": 6,
   "id": "4f1f5102",
   "metadata": {
    "hidden": true
   },
   "outputs": [],
   "source": [
    "def write_params(file,params_V,params_names=params_names_flat):\n",
    "    kk=0\n",
    "    params_V_flat = np.hstack(params_V)\n",
    "    line =  params_names_flat[kk]+' '+'%.3E' % (params_V_flat[kk]) + ' \\n'\n",
    "    for kk in range(1,len(params_names_flat)):\n",
    "        line +=  params_names_flat[kk]+' '+'%.3E' % (params_V_flat[kk]) + ' \\n'\n",
    "    with open(file, 'w') as f:\n",
    "        f.write(''.join(line))\n"
   ]
  },
  {
   "cell_type": "markdown",
   "id": "bdfd07ac",
   "metadata": {
    "heading_collapsed": true
   },
   "source": [
    "## Scan Grid"
   ]
  },
  {
   "cell_type": "code",
   "execution_count": 10,
   "id": "ca560bdb",
   "metadata": {
    "hidden": true
   },
   "outputs": [],
   "source": [
    "parameter1_name = 'kS'\n",
    "parameter2_name = 'Vd'\n",
    "\n",
    "#GRID \n",
    "\n",
    "Npoints = 10\n",
    "parameter1_name = 'kS'\n",
    "parameter2_name = 'Vd'\n",
    "\n",
    "Ks_Values = np.logspace(-2,2,Npoints)\n",
    "Vd_Values = np.logspace(-4,0,Npoints)\n",
    "Vd_Values = np.flipud(Vd_Values)\n",
    "\n",
    "parameters_grid = list(itertools.product(Ks_Values, Vd_Values))\n",
    "\n",
    "index1 = range(Npoints)\n",
    "index2= range(Npoints)\n",
    "\n",
    "parameters_grid = list(itertools.product(index1,index2))\n",
    "\n",
    "## include parameters to be passed in the scan function in the grid:\n",
    "parameters_grid_new = parameters_grid\n",
    "nbr_paramter_sets = len(parameters_grid)\n",
    "for kk in range(nbr_paramter_sets):\n",
    "    parameters_grid_new[kk] = (parameters_grid[kk],params_V,n)"
   ]
  },
  {
   "cell_type": "markdown",
   "id": "a71698b8",
   "metadata": {
    "heading_collapsed": true
   },
   "source": [
    "# In Vitro Model  - reproduce results from Lin et al, 2014"
   ]
  },
  {
   "cell_type": "code",
   "execution_count": 11,
   "id": "46e9ac50",
   "metadata": {
    "hidden": true
   },
   "outputs": [],
   "source": [
    "\n",
    "from cyano_clock_models_args import dCdt"
   ]
  },
  {
   "cell_type": "code",
   "execution_count": 12,
   "id": "0956b34a",
   "metadata": {
    "hidden": true
   },
   "outputs": [],
   "source": [
    "C_indices, C_indices_double = def_C_indices_double(n)\n",
    "only_T_phospho = def_only_T_phospho(n)\n",
    "only_S_phospho = def_only_S_phospho(n)\n",
    "only_D_phospho = def_only_D_phospho(n)"
   ]
  },
  {
   "cell_type": "code",
   "execution_count": 13,
   "id": "868561c9",
   "metadata": {
    "hidden": true
   },
   "outputs": [],
   "source": [
    "kaictot = 0.6\n"
   ]
  },
  {
   "cell_type": "code",
   "execution_count": 14,
   "id": "bf0f035f",
   "metadata": {
    "hidden": true
   },
   "outputs": [
    {
     "data": {
      "text/plain": [
       "84.0"
      ]
     },
     "execution_count": 14,
     "metadata": {},
     "output_type": "execute_result"
    }
   ],
   "source": [
    "#IN VITRO \n",
    "xs_int_short = np.zeros(len(C_indices_double))\n",
    "\n",
    "\n",
    "xs_int_short[0] = kaictot*55.2/100\n",
    "temp = np.random.rand(len(only_T_phospho))\n",
    "temp2 = temp/np.sum(temp)\n",
    "xs_int_short[only_T_phospho]=temp2*kaictot*17.7/100\n",
    "\n",
    "temp = np.random.rand(len(only_S_phospho))\n",
    "temp2 = temp/np.sum(temp)\n",
    "xs_int_short[only_S_phospho]=temp2*kaictot*8.5/100\n",
    "\n",
    "temp = np.random.rand(len(only_D_phospho))\n",
    "temp2 = temp/np.sum(temp)\n",
    "xs_int_short[only_D_phospho]=temp2*kaictot*18.6/100\n",
    "\n",
    "len(xs_int_short)/2"
   ]
  },
  {
   "cell_type": "code",
   "execution_count": 15,
   "id": "41bd1d60",
   "metadata": {
    "hidden": true
   },
   "outputs": [],
   "source": [
    "#for reproducibility, we fixed the initial conditions:\n",
    "xs_int_short = [0.3312, 0.00380345, 0.0314339,  0.01766269, 0.0262113,  0.01172442,\n",
    " 0.01536424, 0.00194807, 0.,         0.,         0.,         0.,\n",
    " 0.,         0.00582197, 0.,        0.,         0.,         0.,\n",
    " 0.0008204,  0.,         0.,         0.,         0.01950789, 0.,\n",
    " 0.,         0.02230842, 0.,         0.00059324, 0.01573665, 0.,\n",
    " 0.,         0.,         0.,         0.,         0.,         0.,\n",
    " 0.,         0.,         0.,         0.,         0.,         0.,\n",
    " 0.,         0.,         0.,         0.,         0.,         0.,\n",
    " 0.,         0.03888949, 0.,         0.,         0.,         0.,\n",
    " 0.,         0.,         0.,         0.,         0.,         0.,\n",
    " 0.,         0.,         0.,         0.,         0.00813959, 0.,\n",
    " 0.,         0.,         0.,         0.,         0.,         0.,\n",
    " 0.,         0.,         0.03980221, 0.,         0.,         0.,\n",
    " 0.,         0.,         0.006852,   0.,         0.,         0.00218006,\n",
    " 0.,         0.,         0.,         0.,         0.,         0.,\n",
    " 0.,         0.,         0.,         0.,         0.,         0.,\n",
    " 0.,         0.,         0.,         0.,         0.,         0.,\n",
    " 0.,         0.,         0.,         0.,         0.,         0.,\n",
    " 0.,         0.,         0.,         0.,         0.,         0.,\n",
    " 0.,         0.,         0.,         0.,         0.,         0.,\n",
    " 0.,         0.,         0.,         0.,         0.,         0.,\n",
    " 0.,        0.,         0.,         0.,         0.,         0.,\n",
    " 0.,         0.,         0.,         0.,         0.,         0.,\n",
    " 0.,         0.,         0.,         0.,         0.,         0.,\n",
    " 0.,         0.,         0.,         0.,         0.,         0.,\n",
    " 0.,         0.,         0.,         0.,         0.,         0.,\n",
    " 0.,         0.,         0.,         0.,         0.,         0.,\n",
    " 0.,        0.,        0.,         0.,         0.,         0.        ]"
   ]
  },
  {
   "cell_type": "code",
   "execution_count": 16,
   "id": "3f5f7dea",
   "metadata": {
    "hidden": true
   },
   "outputs": [],
   "source": [
    "# This reproduces the figure in Lin's papar (4C) - we just set tmax = 250 instead of tmax = 150\n",
    "tmax=240\n",
    "\n",
    "kaiA0_Values= np.array([0.5,1,2,3,4,6])\n",
    "nbr_kaiA = len(kaiA0_Values)\n",
    "if run_full_notebook_fast==False:\n",
    "\n",
    "    \n",
    "\n",
    "    kaiC_V = kaictot\n",
    "    paramsk0_V = k0UT_V,k0TD_V,k0US_V,k0SD_V,k0DS_V,k0DT_V,k0TU_V,k0SU_V\n",
    "    paramskact_V = kactUT_V, kactTD_V, kactUS_V, kactSD_V, kactDS_V, kactDT_V, kactTU_V, kactSU_V\n",
    "    paramsDelta_V = deltaGpT_V, deltaGpS_V, deltaGpSpT_V, deltaGU_V\n",
    "\n",
    "    for k in range(nbr_kaiA):\n",
    "        print('k is ', k)\n",
    "        params_V = konB_V, koffB_V, paramsDelta_V, km_V, kaiC_V, kaiA0_Values[k], paramsk0_V, paramskact_V\n",
    "        xs = solve_ivp(dCdt,[0,tmax],xs_int_short,args=(params_V,), events=hit_ground)\n",
    "        #xs = odeint(dCdt,xs_int_short,t,args=(params_V,))\n",
    "        perc_phospho_kaic = np.dot(xs.y.T,full_phospohate)/kaictot/n\n",
    "        print('estimation of the period ', estimate_period(perc_phospho_kaic,xs.t))\n",
    "\n",
    "\n",
    "        np.savetxt('./results/invitro_ts_kaiA0_'+str(kaiA0_Values[k])+'.txt',perc_phospho_kaic)\n",
    "        np.savetxt('./results/invitro_ts_kaiA0_'+str(kaiA0_Values[k])+'_time_vect.txt',xs.t)\n"
   ]
  },
  {
   "cell_type": "code",
   "execution_count": 17,
   "id": "6d02595e",
   "metadata": {
    "hidden": true
   },
   "outputs": [
    {
     "name": "stdout",
     "output_type": "stream",
     "text": [
      "k is  0\n",
      "k is  1\n",
      "k is  2\n",
      "k is  3\n",
      "k is  4\n",
      "k is  5\n"
     ]
    },
    {
     "data": {
      "image/png": "[encoded data removed]",
      "text/plain": [
       "<Figure size 432x288 with 1 Axes>"
      ]
     },
     "metadata": {
      "needs_background": "light"
     },
     "output_type": "display_data"
    }
   ],
   "source": [
    "fig = plt.figure()    \n",
    "plt.title('Oscillatory behavior depends on KaiA concentration')\n",
    "for k in range(len(kaiA0_Values)):\n",
    "    print('k is ', k) \n",
    "    percKaic = np.loadtxt('./results/invitro_ts_kaiA0_'+str(kaiA0_Values[k])+'.txt')\n",
    "    timeVect = np.loadtxt('./results/invitro_ts_kaiA0_'+str(kaiA0_Values[k])+'_time_vect.txt')\n",
    "    plt.plot(timeVect,percKaic,label =kaiA0_Values[k])\n",
    "    plt.legend()"
   ]
  },
  {
   "cell_type": "markdown",
   "id": "a3bd568d",
   "metadata": {
    "heading_collapsed": true
   },
   "source": [
    "# In Vivo  - initial conditions"
   ]
  },
  {
   "cell_type": "code",
   "execution_count": 18,
   "id": "22125be6",
   "metadata": {
    "hidden": true
   },
   "outputs": [
    {
     "name": "stdout",
     "output_type": "stream",
     "text": [
      "only T 0.21558441558441557\n",
      "only S 0.12467532467532466\n",
      "only D 0.08051948051948052\n",
      "unphos 0.5792207792207792\n",
      "should be 100 percent:  100\n"
     ]
    },
    {
     "data": {
      "text/plain": [
       "337"
      ]
     },
     "execution_count": 18,
     "metadata": {},
     "output_type": "execute_result"
    }
   ],
   "source": [
    "#one set of initial conditions - as proposed in Lin et al, 2014\n",
    "\n",
    "kaictot = 2.23+.83+.31+.48 #values found in Teng et al, 2013\n",
    "print('only T', .83/kaictot)\n",
    "print('only S', .48/kaictot)\n",
    "print('only D', .31/kaictot)\n",
    "print('unphos',2.23/kaictot)\n",
    "xs_int_short = np.zeros(len(C_indices_double)*2)# we add mRNA with np.append later in this cell\n",
    "pcU = 55.2\n",
    "pcU = 58\n",
    "\n",
    "pcT = 17.7\n",
    "pcT = 22\n",
    "\n",
    "pcS = 8.5\n",
    "pcS = 12\n",
    "\n",
    "pcD = 18.6\n",
    "pcD = 8\n",
    "\n",
    "print('should be 100 percent: ', pcU+pcT+pcS+pcD)\n",
    "\n",
    "xs_int_short[0] = kaictot*55.2/100\n",
    "\n",
    "temp = np.random.rand(len(only_T_phospho))\n",
    "temp2 = temp/np.sum(temp)\n",
    "xs_int_short[np.array(only_T_phospho)]\n",
    "\n",
    "xs_int_short[only_T_phospho]=temp2*kaictot*17.7/100\n",
    "\n",
    "temp = np.random.rand(len(only_S_phospho))\n",
    "temp2 = temp/np.sum(temp)\n",
    "xs_int_short[only_S_phospho]=temp2*kaictot*8.5/100\n",
    "\n",
    "temp = np.random.rand(len(only_D_phospho))\n",
    "temp2 = temp/np.sum(temp)\n",
    "xs_int_short[only_D_phospho]=temp2*kaictot*18.6/100\n",
    "\n",
    "\n",
    "\n",
    "xs_int_short_ptr=np.append(xs_int_short,[M0_V])\n",
    "\n",
    "len(xs_int_short_ptr)"
   ]
  },
  {
   "cell_type": "code",
   "execution_count": 19,
   "id": "de85ca07",
   "metadata": {
    "hidden": true
   },
   "outputs": [],
   "source": [
    "#for reproducibility we choose one initial condition: (generated with the code above)\n",
    "xs_int_short_ptr=np.array([2.1252    , 0.01798844, 0.12733649, 0.06980189, 0.11202061,\n",
    "       0.12793989, 0.22636267, 0.06276516, 0.        , 0.        ,\n",
    "       0.        , 0.        , 0.        , 0.01691782, 0.        ,\n",
    "       0.        , 0.        , 0.        , 0.08053767, 0.        ,\n",
    "       0.        , 0.        , 0.11426872, 0.        , 0.        ,\n",
    "       0.02091622, 0.        , 0.0318444 , 0.05557531, 0.        ,\n",
    "       0.        , 0.        , 0.        , 0.        , 0.        ,\n",
    "       0.        , 0.        , 0.        , 0.        , 0.        ,\n",
    "       0.        , 0.        , 0.        , 0.        , 0.        ,\n",
    "       0.        , 0.        , 0.        , 0.        , 0.10093871,\n",
    "       0.        , 0.        , 0.        , 0.        , 0.        ,\n",
    "       0.        , 0.        , 0.        , 0.        , 0.        ,\n",
    "       0.        , 0.        , 0.        , 0.        , 0.04862928,\n",
    "       0.        , 0.        , 0.        , 0.        , 0.        ,\n",
    "       0.        , 0.        , 0.        , 0.        , 0.15415746,\n",
    "       0.        , 0.        , 0.        , 0.        , 0.        ,\n",
    "       0.15155003, 0.        , 0.        , 0.20524922, 0.        ,\n",
    "       0.        , 0.        , 0.        , 0.        , 0.        ,\n",
    "       0.        , 0.        , 0.        , 0.        , 0.        ,\n",
    "       0.        , 0.        , 0.        , 0.        , 0.        ,\n",
    "       0.        , 0.        , 0.        , 0.        , 0.        ,\n",
    "       0.        , 0.        , 0.        , 0.        , 0.        ,\n",
    "       0.        , 0.        , 0.        , 0.        , 0.        ,\n",
    "       0.        , 0.        , 0.        , 0.        , 0.        ,\n",
    "       0.        , 0.        , 0.        , 0.        , 0.        ,\n",
    "       0.        , 0.        , 0.        , 0.        , 0.        ,\n",
    "       0.        , 0.        , 0.        , 0.        , 0.        ,\n",
    "       0.        , 0.        , 0.        , 0.        , 0.        ,\n",
    "       0.        , 0.        , 0.        , 0.        , 0.        ,\n",
    "       0.        , 0.        , 0.        , 0.        , 0.        ,\n",
    "       0.        , 0.        , 0.        , 0.        , 0.        ,\n",
    "       0.        , 0.        , 0.        , 0.        , 0.        ,\n",
    "       0.        , 0.        , 0.        , 0.        , 0.        ,\n",
    "       0.        , 0.        , 0.        , 0.037     ])\n",
    "\n",
    "# another set of initial conditon: it was chosen by runing the model and taking the final time point => less transcient behavior\n",
    "\n",
    "xs_init_specific = np.array([4.21811090e-01, 3.18514069e-01, 1.03447154e-01, 1.80699948e-02,\n",
    "       1.77761154e-03, 9.38839685e-05, 2.17937539e-06, 4.13557615e-01,\n",
    "       2.62823939e-01, 7.00568065e-02, 9.44938276e-03, 6.36138005e-04,\n",
    "       1.71753079e-05, 1.18224008e-01, 5.74320453e-02, 1.19432807e-02,\n",
    "       1.18434228e-03, 4.49361010e-05, 1.83337815e-02, 6.12219211e-03,\n",
    "       7.58483947e-04, 3.40062566e-05, 1.03304086e-03, 2.54137898e-04,\n",
    "       1.63472376e-05, 1.32441351e-05, 2.00282786e-06, 1.66226735e-08,\n",
    "       7.77991846e-02, 5.11617512e-02, 1.36804116e-02, 1.83262850e-03,\n",
    "       1.24267335e-04, 3.67027164e-06, 4.65797378e-02, 2.63876338e-02,\n",
    "       5.78152876e-03, 5.57969833e-04, 2.02333300e-05, 9.08985862e-03,\n",
    "       3.39960695e-03, 4.64410243e-04, 2.29040217e-05, 7.33322497e-04,\n",
    "       1.88505024e-04, 1.25769993e-05, 1.29315682e-05, 2.01525870e-06,\n",
    "       2.03873193e-08, 5.28761957e-03, 2.93386807e-03, 6.16543305e-04,\n",
    "       5.93038200e-05, 2.45457706e-06, 1.72526840e-03, 7.28010967e-04,\n",
    "       1.11950433e-04, 6.24593316e-06, 2.04609446e-04, 5.48260861e-05,\n",
    "       3.90043467e-06, 5.21446223e-06, 8.28501986e-07, 1.07232018e-08,\n",
    "       1.34872294e-04, 6.36474085e-05, 1.05611452e-05, 7.15608661e-07,\n",
    "       2.67667365e-05, 7.72721452e-06, 6.26116839e-07, 1.08396722e-06,\n",
    "       1.87547278e-07, 3.01528189e-09, 1.48816428e-06, 5.40336334e-07,\n",
    "       7.70961579e-08, 1.22875565e-07, 2.19348810e-08, 5.80571895e-10,\n",
    "       7.44721044e-09, 3.61041496e-09, 4.49711102e-11, 1.29240879e-11,\n",
    "       1.36012106e-01, 8.20178510e-02, 2.39187278e-02, 3.95816873e-03,\n",
    "       3.78933000e-04, 1.97791487e-05, 4.61642123e-07, 2.43565662e-01,\n",
    "       1.05619602e-01, 2.17531172e-02, 2.47012051e-03, 1.49657199e-04,\n",
    "       3.85304466e-06, 1.74874922e-01, 6.51338012e-02, 1.01168340e-02,\n",
    "       7.12388181e-04, 1.85446548e-05, 3.56966165e-02, 1.07577923e-02,\n",
    "       1.19387939e-03, 4.72146913e-05, 2.14440922e-03, 5.03266842e-04,\n",
    "       3.09079302e-05, 2.81570295e-05, 4.12991813e-06, 3.62527554e-08,\n",
    "       2.86683189e-02, 1.49716438e-02, 3.45059011e-03, 4.26146274e-04,\n",
    "       2.79082085e-05, 8.28791276e-07, 4.25446204e-02, 1.63080155e-02,\n",
    "       2.44928759e-03, 1.75542994e-04, 5.24110141e-06, 1.57062942e-02,\n",
    "       5.15417313e-03, 5.99325306e-04, 2.39268137e-05, 1.46295226e-03,\n",
    "       3.58183154e-04, 2.26737653e-05, 2.69380845e-05, 4.07926868e-06,\n",
    "       4.39153651e-08, 2.46561745e-03, 1.03552958e-03, 1.78078851e-04,\n",
    "       1.50466886e-05, 5.99016807e-07, 2.42621078e-03, 8.17993204e-04,\n",
    "       9.26586669e-05, 3.48094348e-06, 3.90573177e-04, 9.85009385e-05,\n",
    "       6.36915253e-06, 1.06718236e-05, 1.65617558e-06, 2.27833751e-08,\n",
    "       1.13890336e-04, 3.56524818e-05, 4.04409717e-06, 2.13504836e-07,\n",
    "       4.77397594e-05, 1.22859256e-05, 8.29041329e-07, 2.17485379e-06,\n",
    "       3.45345156e-07, 6.46201507e-09, 2.21867993e-06, 5.89837650e-07,\n",
    "       4.67906353e-08, 2.30414150e-07, 4.08558994e-08, 1.05812440e-09,\n",
    "       1.13578499e-08, 2.60086605e-09, 1.14279896e-10, 7.53901963e-12,\n",
    "       1.71734123e-16])"
   ]
  },
  {
   "cell_type": "markdown",
   "id": "71d626d0",
   "metadata": {},
   "source": [
    "# In Vivo PTR Model "
   ]
  },
  {
   "cell_type": "code",
   "execution_count": 20,
   "id": "87525d1e",
   "metadata": {
    "code_folding": []
   },
   "outputs": [],
   "source": [
    "from cyano_clock_models_args import dCdt_ptr, scan2d_invivo_ptr_Ks_Vd"
   ]
  },
  {
   "cell_type": "markdown",
   "id": "f431d4f6",
   "metadata": {
    "heading_collapsed": true
   },
   "source": [
    "## Explore model & make time traces"
   ]
  },
  {
   "cell_type": "code",
   "execution_count": 21,
   "id": "87c9055c",
   "metadata": {
    "hidden": true
   },
   "outputs": [
    {
     "name": "stdout",
     "output_type": "stream",
     "text": [
      "estimation of the period  32.48797833975922\n"
     ]
    },
    {
     "data": {
      "image/png": "[encoded data removed]",
      "text/plain": [
       "<Figure size 432x288 with 1 Axes>"
      ]
     },
     "metadata": {
      "needs_background": "light"
     },
     "output_type": "display_data"
    }
   ],
   "source": [
    "#run one set of parameters (with lower kaiA0_V)\n",
    "\n",
    "kaiA0_V = 10\n",
    "\n",
    "Ks_V = 0.2\n",
    "Vd_V =0.0046\n",
    "\n",
    "paramsk0_V = k0UT_V,k0TD_V,k0US_V,k0SD_V,k0DS_V,k0DT_V,k0TU_V,k0SU_V\n",
    "paramskact_V = kactUT_V, kactTD_V, kactUS_V, kactSD_V, kactDS_V, kactDT_V, kactTU_V, kactSU_V\n",
    "paramsDelta_V = deltaGpT_V, deltaGpS_V, deltaGpSpT_V, deltaGU_V\n",
    "params_vivo_V = Vsptr_V, Vs_V, Vm_V, Km_V, Ks_V, K_V, V_V, Vd_V, Ki_V\n",
    "params_V = konB_V, koffB_V, paramsDelta_V, km_V, kaiA0_V, paramsk0_V, paramskact_V, params_vivo_V\n",
    "if run_full_notebook_fast == False: \n",
    "    xs = solve_ivp(dCdt_ptr,[0,tmax],xs_int_short_ptr,args=(params_V,), events=hit_ground)\n",
    "    #np.savetxt('./results/invivo_ptr_ts_kaiA0_10.txt',perc_phospho_kaic)\n",
    "    #np.savetxt('./results/invivo_ptr_ts_kaiA0_10_time_vect.txt',xs.t)\n",
    "    my_time_vect = xs.t\n",
    "    kaictot_v = np.sum(xs.y.T[:,0:-1],axis=1)\n",
    "    perc_phospho_kaic = np.dot(xs.y.T[:,0:-1],full_phospohate)/kaictot_v/n\n",
    "else:\n",
    "    my_time_vect = np.loadtxt('./results/invivo_ptr_ts_kaiA0_10_time_vect.txt')\n",
    "    perc_phospho_kaic = np.loadtxt('./results/invivo_ptr_ts_kaiA0_10.txt')\n",
    "plt.plot(my_time_vect,perc_phospho_kaic)\n",
    "period = estimate_period(perc_phospho_kaic,my_time_vect)\n",
    "print('estimation of the period ', period)\n",
    "plt.ylabel('Percentage of phosphorylated KaiC')\n",
    "plt.xlabel('time')\n",
    "plt.show() "
   ]
  },
  {
   "cell_type": "code",
   "execution_count": 22,
   "id": "0a07327f",
   "metadata": {
    "hidden": true
   },
   "outputs": [],
   "source": [
    "if run_full_notebook_fast==False:# comparison with model without active degradation by putting V_V to zero: \n",
    "    kaiA0_V = 10\n",
    "    tmax = 250\n",
    "    #Ks_V = 0.0078\n",
    "    #Vd_V =0.01\n",
    "    #K_V = kaictot*.8\n",
    "    V_V = 0.0\n",
    "    kaiA0_V = 10\n",
    "\n",
    "    Ks_V = 0.2\n",
    "    Vd_V =0.0046\n",
    "\n",
    "    paramsk0_V = k0UT_V,k0TD_V,k0US_V,k0SD_V,k0DS_V,k0DT_V,k0TU_V,k0SU_V\n",
    "    paramskact_V = kactUT_V, kactTD_V, kactUS_V, kactSD_V, kactDS_V, kactDT_V, kactTU_V, kactSU_V\n",
    "    paramsDelta_V = deltaGpT_V, deltaGpS_V, deltaGpSpT_V, deltaGU_V\n",
    "    params_vivo_V = Vsptr_V, Vs_V, Vm_V, Km_V, Ks_V, K_V, V_V, Vd_V, Ki_V\n",
    "    params_V = konB_V, koffB_V, paramsDelta_V, km_V, kaiA0_V, paramsk0_V, paramskact_V, params_vivo_V\n",
    "\n",
    "    xs = solve_ivp(dCdt_ptr,[0,tmax],xs_int_short_ptr,args=(params_V,), events=hit_ground)\n",
    "    kaictot_v = np.sum(xs.y.T[:,0:-1],axis=1)\n",
    "    perc_phospho_kaic = np.dot(xs.y.T[:,0:-1],full_phospohate)/kaictot_v/n\n",
    "\n",
    "    K_V = 2.0\n",
    "\n",
    "    plt.plot(xs.t,perc_phospho_kaic)\n",
    "    period = estimate_period(perc_phospho_kaic,xs.t)\n",
    "    print('estimation of the period ', period)\n",
    "    plt.ylabel('Fraction of phosphorylated KaiC')\n",
    "    plt.xlabel('time')\n",
    "    plt.show() "
   ]
  },
  {
   "cell_type": "code",
   "execution_count": 23,
   "id": "90894d9f",
   "metadata": {
    "hidden": true
   },
   "outputs": [],
   "source": [
    "if run_full_notebook_fast==False:# default set of parameter with Ks, Vd leading to oscillations\n",
    "\n",
    "    kaiA0_V = 10\n",
    "    tmax = 240\n",
    "    #Ks_V = 0.0078\n",
    "    #Vd_V =0.01\n",
    "    #K_V = kaictot*.8\n",
    "    #V_V = 0.0\n",
    "\n",
    "\n",
    "    Ks_V = 0.2\n",
    "    Vd_V =0.0046\n",
    "\n",
    "    paramsk0_V = k0UT_V,k0TD_V,k0US_V,k0SD_V,k0DS_V,k0DT_V,k0TU_V,k0SU_V\n",
    "    paramskact_V = kactUT_V, kactTD_V, kactUS_V, kactSD_V, kactDS_V, kactDT_V, kactTU_V, kactSU_V\n",
    "    paramsDelta_V = deltaGpT_V, deltaGpS_V, deltaGpSpT_V, deltaGU_V\n",
    "    params_vivo_V = Vsptr_V, Vs_V, Vm_V, Km_V, Ks_V, K_V, V_V, Vd_V, Ki_V\n",
    "    params_V = konB_V, koffB_V, paramsDelta_V, km_V, kaiA0_V, paramsk0_V, paramskact_V, params_vivo_V\n",
    "\n",
    "    xs = solve_ivp(dCdt_ptr,[0,tmax],xs_init_specific,args=(params_V,), events=hit_ground)\n",
    "    kaictot_v = np.sum(xs.y.T[:,0:-1],axis=1)\n",
    "    perc_phospho_kaic = np.dot(xs.y.T[:,0:-1],full_phospohate)/kaictot_v/n\n",
    "\n",
    "    plt.plot(xs.t,perc_phospho_kaic)\n",
    "    period = estimate_period(perc_phospho_kaic,xs.t)\n",
    "    print('estimation of the period ', period)\n",
    "    plt.ylabel('Fraction of phosphorylated KaiC')\n",
    "    plt.xlabel('time')\n",
    "    plt.show() \n"
   ]
  },
  {
   "cell_type": "markdown",
   "id": "f14a6647",
   "metadata": {
    "hidden": true
   },
   "source": [
    "Evaluate feedback for later comparison with WT model => it oscillating around 2\n",
    "(not shown but could plot feedback (ie fraction of KaiC in S-phosphostate (eventually only bound to kaiB)) and estimate average value)\n"
   ]
  },
  {
   "cell_type": "code",
   "execution_count": 24,
   "id": "83939d04",
   "metadata": {
    "hidden": true
   },
   "outputs": [],
   "source": [
    "if False:\n",
    "    mean_feedback = 1.5\n",
    "    Vs_V_adapted = (mean_feedback**4+Ki_V**4)/Ki_V**4*Vsptr_V\n",
    "    print(Vs_V_adapted)"
   ]
  },
  {
   "cell_type": "markdown",
   "id": "a6416859",
   "metadata": {},
   "source": [
    "## Parallel computing and save results"
   ]
  },
  {
   "cell_type": "markdown",
   "id": "253cd184",
   "metadata": {
    "heading_collapsed": true
   },
   "source": [
    "### active degradation kaiA = 2 (saved results)"
   ]
  },
  {
   "cell_type": "code",
   "execution_count": 27,
   "id": "5c3111f4",
   "metadata": {
    "code_folding": [],
    "hidden": true
   },
   "outputs": [],
   "source": [
    "pre_name_file = './results/2dscan_invivo_ptr_with_active_degradation_kaiA_2'\n",
    "name_file = pre_name_file +'.txt'\n",
    "\n",
    "if run_full_notebook_fast==False:\n",
    "    kaiA0_V = 2.0\n",
    "    if __name__ == '__main__':\n",
    "        with multiprocessing.Pool(number_of_cores) as p:\n",
    "            myoutput = p.map(scan2d_invivo_ptr_Ks_Vd, parameters_grid)\n",
    "        file = name_file\n",
    "        open(file, 'a+') \n",
    "        with open(file, 'w') as f:\n",
    "            f.write(''.join(myoutput))"
   ]
  },
  {
   "cell_type": "code",
   "execution_count": 28,
   "id": "8cfc1116",
   "metadata": {
    "hidden": true
   },
   "outputs": [
    {
     "name": "stdout",
     "output_type": "stream",
     "text": [
      "Scan over $K_s$ and $V_d$ - KaiA0 = 2\n"
     ]
    },
    {
     "name": "stderr",
     "output_type": "stream",
     "text": [
      "/Users/sdebuyl/Desktop/codes_clocks/cyano_clock_models_args.py:870: UserWarning: This figure includes Axes that are not compatible with tight_layout, so results might be incorrect.\n",
      "  plt.savefig(file_to_save_figure)\n",
      "/Users/sdebuyl/opt/anaconda3/lib/python3.9/site-packages/IPython/core/pylabtools.py:151: UserWarning: This figure includes Axes that are not compatible with tight_layout, so results might be incorrect.\n",
      "  fig.canvas.print_figure(bytes_io, **kw)\n"
     ]
    },
    {
     "data": {
      "image/png": "[encoded data removed]",
      "text/plain": [
       "<Figure size 1152x576 with 2 Axes>"
      ]
     },
     "metadata": {
      "needs_background": "light"
     },
     "output_type": "display_data"
    }
   ],
   "source": [
    "file_to_save_figure = pre_name_file +'.png'\n",
    "\n",
    "preoscillations = np.loadtxt(name_file,dtype=float,delimiter=',')\n",
    "oscillations = matrix_reconstruction(preoscillations)\n",
    "print('Scan over $K_s$ and $V_d$ - KaiA0 = 2')\n",
    "twodscan_figure(Npoints, oscillations,file_to_save_figure,name_x=parameter1_name,name_y=parameter2_name,name_values_x=Ks_Values,name_values_y=Vd_Values)\n"
   ]
  },
  {
   "cell_type": "markdown",
   "id": "c50867a9",
   "metadata": {
    "hidden": true
   },
   "source": [
    "We see on the figure here above that almost not parameter combination of Ks and Vs leads to oscillations with a period larger than 10 h. "
   ]
  },
  {
   "cell_type": "markdown",
   "id": "88a3a568",
   "metadata": {
    "heading_collapsed": true
   },
   "source": [
    "### active degradation kaiA = 10 (saved results)"
   ]
  },
  {
   "cell_type": "code",
   "execution_count": 29,
   "id": "8d67c298",
   "metadata": {
    "hidden": true
   },
   "outputs": [],
   "source": [
    "pre_name_file = './results/2dscan_invivo_ptr_active_degradation_kaiA_10'\n",
    "name_file = pre_name_file +'.txt'\n",
    "\n",
    "if run_full_notebook_fast==False:\n",
    "\n",
    "    kaiA0_V = 10.0\n",
    "\n",
    "    if __name__ == '__main__':\n",
    "        with multiprocessing.Pool(number_of_cores) as p:\n",
    "            myoutput = p.map(scan2d_invivo_ptr_Ks_Vd, parameters_grid)\n",
    "        file = name_file\n",
    "        #open(file, 'a+') \n",
    "        with open(file, 'w') as f:\n",
    "            f.write(''.join(myoutput))\n",
    "\n",
    "preoscillations = np.loadtxt(name_file,dtype=float,delimiter=',')\n",
    "oscillations = matrix_reconstruction(preoscillations)\n",
    "\n"
   ]
  },
  {
   "cell_type": "code",
   "execution_count": 30,
   "id": "ed382580",
   "metadata": {
    "hidden": true
   },
   "outputs": [
    {
     "name": "stdout",
     "output_type": "stream",
     "text": [
      "Scan over $K_s$ and $V_d$ - KaiA0 = 10\n"
     ]
    },
    {
     "data": {
      "image/png": "[encoded data removed]",
      "text/plain": [
       "<Figure size 1152x576 with 2 Axes>"
      ]
     },
     "metadata": {
      "needs_background": "light"
     },
     "output_type": "display_data"
    }
   ],
   "source": [
    "file_to_save_figure=pre_name_file+'.png'\n",
    "print('Scan over $K_s$ and $V_d$ - KaiA0 = 10')\n",
    "twodscan_figure(Npoints, oscillations,file_to_save_figure,name_x=parameter1_name,name_y=parameter2_name,name_values_x=Ks_Values,name_values_y=Vd_Values)\n",
    "\n"
   ]
  },
  {
   "cell_type": "markdown",
   "id": "8faef767",
   "metadata": {
    "hidden": true
   },
   "source": [
    "For kaiA0 = 10, we no longer need fine tuning of Ks and Vd to obtain oscillations (with period >10h)"
   ]
  },
  {
   "cell_type": "markdown",
   "id": "d96209ef",
   "metadata": {
    "heading_collapsed": true
   },
   "source": [
    "### active degradation kaiA = 20 (saved results)"
   ]
  },
  {
   "cell_type": "code",
   "execution_count": 31,
   "id": "0cee9830",
   "metadata": {
    "hidden": true
   },
   "outputs": [],
   "source": [
    "kaiA0_V = 20.0\n",
    "\n",
    "Ks_V = 0.2\n",
    "Vd_V =0.0046\n",
    "\n",
    "paramsk0_V = k0UT_V,k0TD_V,k0US_V,k0SD_V,k0DS_V,k0DT_V,k0TU_V,k0SU_V\n",
    "paramskact_V = kactUT_V, kactTD_V, kactUS_V, kactSD_V, kactDS_V, kactDT_V, kactTU_V, kactSU_V\n",
    "paramsDelta_V = deltaGpT_V, deltaGpS_V, deltaGpSpT_V, deltaGU_V\n",
    "params_vivo_V = Vsptr_V, Vs_V, Vm_V, Km_V, Ks_V, K_V, V_V, Vd_V, Ki_V\n",
    "params_V = konB_V, koffB_V, paramsDelta_V, km_V, kaiA0_V, paramsk0_V, paramskact_V, params_vivo_V\n",
    "\n",
    "\n",
    "pre_name_file = './results/2dscan_invivo_ptr_active_degradation_kaiA_20'\n",
    "name_file = pre_name_file +'.txt'\n",
    "if run_full_notebook_fast == False:\n",
    "    if __name__ == '__main__':\n",
    "        with multiprocessing.Pool(number_of_cores) as p:\n",
    "            myoutput = p.map(scan2d_invivo_ptr_Ks_Vd, parameters_grid)\n",
    "        file = name_file\n",
    "        open(file, 'a+') \n",
    "        with open(file, 'w') as f:\n",
    "            f.write(''.join(myoutput))"
   ]
  },
  {
   "cell_type": "code",
   "execution_count": 32,
   "id": "a1248061",
   "metadata": {
    "hidden": true,
    "scrolled": true
   },
   "outputs": [
    {
     "data": {
      "image/png": "[encoded data removed]",
      "text/plain": [
       "<Figure size 1152x576 with 2 Axes>"
      ]
     },
     "metadata": {
      "needs_background": "light"
     },
     "output_type": "display_data"
    }
   ],
   "source": [
    "\n",
    "file_to_save_figure = pre_name_file +'.png'\n",
    "\n",
    "preoscillations = np.loadtxt(name_file,dtype=float,delimiter=',')\n",
    "oscillations = matrix_reconstruction(preoscillations)\n",
    "\n",
    "twodscan_figure(Npoints, oscillations,file_to_save_figure,name_x=parameter1_name,name_y=parameter2_name,name_values_x=Ks_Values,name_values_y=Vd_Values)\n"
   ]
  },
  {
   "cell_type": "markdown",
   "id": "34c810ab",
   "metadata": {},
   "source": [
    "# In Vivo WT Model"
   ]
  },
  {
   "cell_type": "code",
   "execution_count": 33,
   "id": "16632634",
   "metadata": {},
   "outputs": [],
   "source": [
    "from cyano_clock_models_args import dCdt_wt, dCdt_wt_unphospho_only_feedback, scan2d_invivo_wt_Ks_Vd"
   ]
  },
  {
   "cell_type": "markdown",
   "id": "84d5e381",
   "metadata": {
    "heading_collapsed": true
   },
   "source": [
    "## Tests with figure"
   ]
  },
  {
   "cell_type": "code",
   "execution_count": 34,
   "id": "2929e39c",
   "metadata": {
    "hidden": true
   },
   "outputs": [],
   "source": [
    "#Ks_V=0.2\n",
    "#Vd_V= 0.042\n",
    "#in vivo parameters\n",
    "Vsptr_V=0.03316*scale_fact\n",
    "Vs_V = 2*scale_fact\n",
    "Vm_V = .2*scale_fact\n",
    "Km_V= .2 #(0.2 for in vivo??)\n",
    "#Ks_V=8#2.7\n",
    "M0_V=0.037\n",
    "K_V = 2.0\n",
    "#Vd_V=.0078*scale_fact\n",
    "Ki_V = 1.0\n",
    "V_V = 0.002\n",
    "Ks_V = 0.2\n",
    "Vd_V =0.0046\n",
    "kaiA0_V = 10\n",
    "\n"
   ]
  },
  {
   "cell_type": "code",
   "execution_count": 36,
   "id": "65f96617",
   "metadata": {
    "hidden": true
   },
   "outputs": [
    {
     "name": "stderr",
     "output_type": "stream",
     "text": [
      "No handles with labels found to put in legend.\n"
     ]
    },
    {
     "name": "stdout",
     "output_type": "stream",
     "text": [
      "estimation of the period  32.25473444903811\n"
     ]
    },
    {
     "data": {
      "image/png": "[encoded data removed]",
      "text/plain": [
       "<Figure size 432x288 with 1 Axes>"
      ]
     },
     "metadata": {
      "needs_background": "light"
     },
     "output_type": "display_data"
    }
   ],
   "source": [
    "#Ki_V = 2 #Vs_V = Vsptr_V*(20+Kit_V**4)/Kit_V**4\n",
    "#Vs_V = 0.10\n",
    "kaiA0_V = 10\n",
    "Ks_V=.01\n",
    "Vd_V= 2*10**(-3)\n",
    "Vs_V =0.005469690721649485 \n",
    "paramsk0_V = k0UT_V,k0TD_V,k0US_V,k0SD_V,k0DS_V,k0DT_V,k0TU_V,k0SU_V\n",
    "paramskact_V = kactUT_V, kactTD_V, kactUS_V, kactSD_V, kactDS_V, kactDT_V, kactTU_V, kactSU_V\n",
    "paramsDelta_V = deltaGpT_V, deltaGpS_V, deltaGpSpT_V, deltaGU_V\n",
    "params_vivo = Vsptr_V, Vs_V, Vm_V, Km_V, Ks_V, K_V, V_V, Vd_V, Ki_V\n",
    "params_V = konB_V, koffB_V, paramsDelta_V, km_V, kaiA0_V, paramsk0_V, paramskact_V, params_vivo\n",
    "#xs= odeint(dCdt_ptr,xs_int_short_ptr,t,args=(params_V,))\n",
    "\n",
    "\n",
    "if run_full_notebook_fast == False: \n",
    "    xs = solve_ivp(dCdt_wt,[0,tmax],xs_init_specific,args=(params_V,), events=hit_ground)\n",
    "    kaictot_v = np.sum(xs.y.T[:,0:-1],axis=1) #last variable is mRNA so it shouldn't be included in the sum\n",
    "    perc_phospho_kaic = np.dot(xs.y.T[:,0:-1],full_phospohate)/kaictot_v/n\n",
    "    np.savetxt('./results/invivo_wt_ts_kaiA0_10.txt',perc_phospho_kaic)\n",
    "    np.savetxt('./results/invivo_wt_ts_kaiA0_10_time_vect.txt',xs.t)\n",
    "    my_time_vect = xs.t\n",
    "    kaictot_v = np.sum(xs.y.T[:,0:-1],axis=1)\n",
    "    perc_phospho_kaic = np.dot(xs.y.T[:,0:-1],full_phospohate)/kaictot_v/n\n",
    "else:\n",
    "    my_time_vect = np.loadtxt('./results/invivo_wt_ts_kaiA0_10_time_vect.txt')\n",
    "    perc_phospho_kaic = np.loadtxt('./results/invivo_wt_ts_kaiA0_10.txt')\n",
    "\n",
    "\n",
    "#xs = solve_ivp(dCdt_wt,[0,tmax],xs_init_specific,args=(params_V,), events=hit_ground)\n",
    "\n",
    "plt.plot(my_time_vect,perc_phospho_kaic)\n",
    "period = estimate_period(perc_phospho_kaic,my_time_vect)\n",
    "print('estimation of the period ', period)\n",
    "#myperiod = estimate_period(perc_phospho_kaic,xs.t)\n",
    "#oscillations[x[0],x[1]] = period\n",
    "\n",
    "plt.ylabel('Percentage of phosphorylated KaiC')\n",
    "plt.xlabel('time')\n",
    "plt.legend(loc='upper right', title=\"KaiA\")\n",
    "plt.show() #12:20"
   ]
  },
  {
   "cell_type": "code",
   "execution_count": 26,
   "id": "d4576066",
   "metadata": {
    "hidden": true
   },
   "outputs": [
    {
     "name": "stdout",
     "output_type": "stream",
     "text": [
      "0.1 0.001\n",
      "estimation of the period  nan\n",
      "0.1 0.007\n",
      "estimation of the period  nan\n",
      "0.1 0.1\n",
      "estimation of the period  nan\n",
      "1.0 0.001\n",
      "estimation of the period  nan\n",
      "1.0 0.007\n",
      "estimation of the period  nan\n",
      "1.0 0.1\n",
      "estimation of the period  nan\n",
      "2.0 0.001\n",
      "estimation of the period  nan\n",
      "2.0 0.007\n",
      "estimation of the period  nan\n",
      "2.0 0.1\n",
      "estimation of the period  24.932828805115065\n"
     ]
    },
    {
     "data": {
      "image/png": "[encoded data removed]",
      "text/plain": [
       "<Figure size 432x288 with 1 Axes>"
      ]
     },
     "metadata": {
      "needs_background": "light"
     },
     "output_type": "display_data"
    }
   ],
   "source": [
    "if False: #this was run to test if we could get oscillations for the WT model for Ks_V=0.2; Vd_V= 0.042 - for which default params lead to no oscillations\n",
    "    Ki_Values = np.array([.1,1.0,2.0])\n",
    "    Vs_Values = np.array([.001,.007,.1])\n",
    "    for Ki_V in Ki_Values:\n",
    "        for Vs_V in Vs_Values: \n",
    "            print(Ki_V, Vs_V)\n",
    "            paramsk0_V = k0UT_V,k0TD_V,k0US_V,k0SD_V,k0DS_V,k0DT_V,k0TU_V,k0SU_V\n",
    "            paramskact_V = kactUT_V, kactTD_V, kactUS_V, kactSD_V, kactDS_V, kactDT_V, kactTU_V, kactSU_V\n",
    "            paramsDelta_V = deltaGpT_V, deltaGpS_V, deltaGpSpT_V, deltaGU_V\n",
    "            params_vivo = Vsptr_V, Vs_V, Vm_V, Km_V, Ks_V, K_V, V_V, Vd_V, Ki_V\n",
    "            params_V = konB_V, koffB_V, paramsDelta_V, km_V, kaiA0_V, paramsk0_V, paramskact_V, params_vivo\n",
    "            xs = solve_ivp(dCdt_wt,[0,tmax],xs_init_specific,args=(params_V,), events=hit_ground)\n",
    "            kaictot_v = np.sum(xs.y.T[:,0:-1],axis=1) #last variable is mRNA so it shouldn't be included in the sum\n",
    "            perc_phospho_kaic = np.dot(xs.y.T[:,0:-1],full_phospohate)/kaictot_v/n\n",
    "            plt.plot(xs.t,perc_phospho_kaic,label='Ki'+str(Ki_V)+'Vs'+str(Vs_V))\n",
    "            period = estimate_period(perc_phospho_kaic,xs.t)\n",
    "            print('estimation of the period ', period)\n",
    "            #myperiod = estimate_period(perc_phospho_kaic,xs.t)\n",
    "            #oscillations[x[0],x[1]] = period\n",
    "\n",
    "    plt.ylabel('Percentage of phosphorylated KaiC')\n",
    "    plt.xlabel('time')\n",
    "    plt.legend(loc='upper right', title=\"KaiA\")\n",
    "    plt.show() #12:20"
   ]
  },
  {
   "cell_type": "code",
   "execution_count": null,
   "id": "8e63b5bf",
   "metadata": {
    "hidden": true
   },
   "outputs": [],
   "source": [
    "#to evaluate the mean feedback for different models \n",
    "\n",
    "np.dot(xs_init_specific[contain_S_phospho],weight_contain_S_phospho)\n",
    "\n",
    "if False: \n",
    "    feedback = np.sum(xs_init_specific[only_S_B])\n",
    "    feedback = np.dot(contain_S_phospho,weight_contain_S_phospho)\n",
    "    feedback = np.dot(contain_S_phospho[removeNotB:],weight_contain_S_phospho[removeNotB:])+.9*xs_init_specific[number_states_without_B]\n",
    "\n",
    "    print('dmRNA feedback ', Vs_V*Ki_V**4/(Ki_V**4 + feedback**4))\n",
    "    print('dmRNA degradation ', Vm_V*mRNA/(Km_V+xs_init_specific[-1]) )"
   ]
  },
  {
   "cell_type": "markdown",
   "id": "2ff298b8",
   "metadata": {
    "heading_collapsed": true
   },
   "source": [
    "## Scan and save results"
   ]
  },
  {
   "cell_type": "markdown",
   "id": "d8a1956c",
   "metadata": {
    "hidden": true
   },
   "source": [
    "('Vsptr', 'Vs', 'Vm', 'Km', 'Ks', 'K', 'V', 'Vd', 'Ki')\n",
    "\n",
    "(0.03316, 0.004, 0.2, 0.2, 0.01, 2.0, 0.002, 0.002, 1.0)"
   ]
  },
  {
   "cell_type": "code",
   "execution_count": 38,
   "id": "b62e9ef1",
   "metadata": {
    "hidden": true
   },
   "outputs": [],
   "source": [
    "#('Vsptr', 'Vs', 'Vm', 'Km', 'Ks', 'K', 'V', 'Vd', 'Ki')Vs_V = 0.005469690721649485 \n",
    "#(0.03316, 2, 0.2, 0.2, 0.2, 2.0, 0.002, 0.0046, 1.0)\n",
    "# (0.03316, 2, 0.2, 0.2, 0.01, 2.0, 0.002, 0.002, 1.0))\n",
    "# (0.03316, 2, 0.2, 0.2, 0.2, 2.0, 0.002, 0.0046, 1.0))\n",
    "Km_V = .2\n",
    "kaiA0_V = 10\n",
    "Ks_V=.01\n",
    "Vd_V= 2*10**(-3)\n",
    "Vs_V =0.004\n",
    "paramsk0_V = k0UT_V,k0TD_V,k0US_V,k0SD_V,k0DS_V,k0DT_V,k0TU_V,k0SU_V\n",
    "paramskact_V = kactUT_V, kactTD_V, kactUS_V, kactSD_V, kactDS_V, kactDT_V, kactTU_V, kactSU_V\n",
    "paramsDelta_V = deltaGpT_V, deltaGpS_V, deltaGpSpT_V, deltaGU_V\n",
    "params_vivo = Vsptr_V, Vs_V, Vm_V, Km_V, Ks_V, K_V, V_V, Vd_V, Ki_V\n",
    "params_V = konB_V, koffB_V, paramsDelta_V, km_V, kaiA0_V, paramsk0_V, paramskact_V, params_vivo\n",
    "\n",
    "parameter1_name = 'kS'\n",
    "parameter2_name = 'Vd'\n"
   ]
  },
  {
   "cell_type": "code",
   "execution_count": 39,
   "id": "09be5d9f",
   "metadata": {
    "hidden": true
   },
   "outputs": [],
   "source": [
    "\n",
    "#GRID - the \"new grid\" needs to be remade as it includes the list of parameters\n",
    "\n",
    "\n",
    "## include parameters to be passed in the scan function in the grid:\n",
    "parameters_grid_new = parameters_grid\n",
    "nbr_paramter_sets = len(parameters_grid)\n",
    "\n",
    "for kk in range(nbr_paramter_sets):\n",
    "    parameters_grid_new[kk] = (parameters_grid[kk],params_V,n)\n",
    "    \n",
    "\n",
    "pre_name_file = './results/2dscan_invivo_wt_S_feedback_kaiA0_10'\n",
    "name_file = pre_name_file + '.txt'\n",
    "if run_full_notebook_fast == False:\n",
    "\n",
    "    if __name__ == '__main__':\n",
    "        with multiprocessing.Pool(number_of_cores) as p:\n",
    "            myoutput = p.map(scan2d_invivo_wt_Ks_Vd, parameters_grid_new)\n",
    "        file = name_file\n",
    "        open(file, 'a+') \n",
    "        with open(file, 'w') as f:\n",
    "            f.write(''.join(myoutput))\n",
    "  "
   ]
  },
  {
   "cell_type": "code",
   "execution_count": 40,
   "id": "2a15831a",
   "metadata": {
    "hidden": true
   },
   "outputs": [
    {
     "name": "stderr",
     "output_type": "stream",
     "text": [
      "/Users/sdebuyl/Desktop/codes_clocks/cyano_clock_models_args.py:870: UserWarning: This figure includes Axes that are not compatible with tight_layout, so results might be incorrect.\n",
      "  plt.savefig(file_to_save_figure)\n",
      "/Users/sdebuyl/opt/anaconda3/lib/python3.9/site-packages/IPython/core/pylabtools.py:151: UserWarning: This figure includes Axes that are not compatible with tight_layout, so results might be incorrect.\n",
      "  fig.canvas.print_figure(bytes_io, **kw)\n"
     ]
    },
    {
     "data": {
      "image/png": "[encoded data removed]",
      "text/plain": [
       "<Figure size 1152x576 with 2 Axes>"
      ]
     },
     "metadata": {
      "needs_background": "light"
     },
     "output_type": "display_data"
    }
   ],
   "source": [
    "\n",
    "file_to_save_figure = pre_name_file +'.png'\n",
    "\n",
    "preoscillations = np.loadtxt(name_file,dtype=float,delimiter=',')\n",
    "oscillations = matrix_reconstruction(preoscillations)\n",
    "twodscan_figure(Npoints, oscillations,file_to_save_figure,name_x=parameter1_name,name_y=parameter2_name,name_values_x=Ks_Values,name_values_y=Vd_Values)\n"
   ]
  },
  {
   "cell_type": "markdown",
   "id": "bdb35ea9",
   "metadata": {
    "heading_collapsed": true
   },
   "source": [
    "## (todo) Generalized scan function - PTR & WT together + feedback evaluation"
   ]
  },
  {
   "cell_type": "code",
   "execution_count": 44,
   "id": "8a0e1a9a",
   "metadata": {
    "hidden": true
   },
   "outputs": [],
   "source": [
    "if False: \n",
    "    def scan2d_invivo(x):\n",
    "        Ks_V = Ks_Values[x[0]]\n",
    "        Vd_V = Vd_Values[x[1]]\n",
    "        print(Ks_V,'',Vd_V)\n",
    "        Ki_V = 2#Vs_V = Vsptr_V*(20+Kit_V**4)/Kit_V**4\n",
    "        Vs_V = 0.10\n",
    "        paramsk0_V = k0UT_V,k0TD_V,k0US_V,k0SD_V,k0DS_V,k0DT_V,k0TU_V,k0SU_V\n",
    "        paramskact_V = kactUT_V, kactTD_V, kactUS_V, kactSD_V, kactDS_V, kactDT_V, kactTU_V, kactSU_V\n",
    "        paramsDelta_V = deltaGpT_V, deltaGpS_V, deltaGpSpT_V, deltaGU_V\n",
    "        params_vivo_V= Vsptr_V, Vs_V, Vm_V, Km_V, Ks_V, K_V, V_V, Vd_V, Ki_V\n",
    "        params_V = konB_V, koffB_V, paramsDelta_V, km_V, kaiA0_V, paramsk0_V, paramskact_V, params_vivo_V\n",
    "\n",
    "\n",
    "        try:\n",
    "            xs_ptr  = solve_ivp(dCdt_ptr,[0,tmax],xs_init_specific,args=(params_V,), events=hit_ground)\n",
    "            kaictot_ptr_v = np.sum(xs_ptr.y.T[:,0:-1],axis=1)\n",
    "            perc_phospho_kaic_ptr = np.dot(xs_ptr.y.T[:,0:-1],full_phospohate)/kaictot_ptr_v/n\n",
    "            myperiod_ptr = estimate_period(perc_phospho_kaic_ptr,xs_ptr.t)\n",
    "            feedback_ptr = np.mean(np.dot(xs_ptr.y[contain_S_phospho[removeNotB:]].T,weight_contain_S_phospho[removeNotB:]))\n",
    "\n",
    "            xs = solve_ivp(dCdt_wt_2,[0,tmax],xs_init_specific,args=(params_V,), events=hit_ground)\n",
    "            kaictot_v = np.sum(xs.y.T[:,0:-1],axis=1)\n",
    "            perc_phospho_kaic = np.dot(xs.y.T[:,0:-1],full_phospohate)/kaictot_v/n\n",
    "            myperiod = estimate_period(perc_phospho_kaic,xs.t)\n",
    "            feedback= np.mean(np.dot(xs.y[contain_S_phospho[removeNotB:]].T,weight_contain_S_phospho[removeNotB:]))\n",
    "\n",
    "            if True:\n",
    "                plt.plot(xs_ptr.t,perc_phospho_kaic_ptr,'--',label='ptr '+str(x))\n",
    "                plt.plot(xs.t,perc_phospho_kaic,label='wt '+str(x))\n",
    "                plt.plot(xs_wt_cst.t,perc_phospho_kaic_wt_cst,'*',label = 'wt cst'+str(x))\n",
    "\n",
    "\n",
    "            print(x, 'Ks, Vd ', Ks_V, Vd_V, 'period ', myperiod,' period ptr ',myperiod_ptr,' feedback', feedback, 'ptr feedback ',feedback_ptr)#, 'period cst fb ',myperiod_wt_cst, 'feedback ', feedback)\n",
    "\n",
    "            if (1 < myperiod <100):\n",
    "                line = '%d,%d,%.3E,%.3E,%.3E,%.3E' % (x[0],x[1],myperiod_ptr,myperiod,feedback_ptr,feedback) +  '\\n'\n",
    "                return line\n",
    "            else:\n",
    "                line =  '%d,%d,%.3E,%.3E,%.3E,%.3E' % (x[0],x[1],myperiod_ptr,myperiod,feedback_ptr,feedback) +  '\\n'\n",
    "                return line\n",
    "        except:\n",
    "            print('i coudn t run it')\n",
    "            line =  '%d,%d,%.3E,%.3E,%.3E,%.3E,%.3E' % (x[0],x[1],-1.0,-1.0,-1.0,-1.0) +  '\\n'\n",
    "            return line\n",
    "\n"
   ]
  },
  {
   "cell_type": "code",
   "execution_count": 45,
   "id": "34239ccf",
   "metadata": {
    "hidden": true
   },
   "outputs": [],
   "source": [
    "\n",
    "if False:\n",
    "    plt.plot(xs_ptr.t,perc_phospho_kaic_ptr,'--',label='ptr '+str(x))\n",
    "    plt.plot(xs.t,perc_phospho_kaic,label='wt '+str(x))\n",
    "    plt.plot(xs_wt_cst.t,perc_phospho_kaic_wt_cst,'*',label = 'wt cst'+str(x))\n",
    "\n"
   ]
  },
  {
   "cell_type": "code",
   "execution_count": 56,
   "id": "5feca134",
   "metadata": {
    "hidden": true
   },
   "outputs": [],
   "source": [
    "if False: \n",
    "    def scan2d_invivo_wt_Ks_Vd_test(x):\n",
    "        print(x)\n",
    "        Ks_V = Ks_Values[x[0]]\n",
    "        Vd_V = Vd_Values[x[1]]\n",
    "        paramsk0_V = k0UT_V,k0TD_V,k0US_V,k0SD_V,k0DS_V,k0DT_V,k0TU_V,k0SU_V\n",
    "        paramskact_V = kactUT_V, kactTD_V, kactUS_V, kactSD_V, kactDS_V, kactDT_V, kactTU_V, kactSU_V\n",
    "        paramsDelta_V = deltaGpT_V, deltaGpS_V, deltaGpSpT_V, deltaGU_V\n",
    "        params_vivo_V= Vsptr_V, Vs_V, Vm_V, Km_V, Ks_V, K_V, V_V, Vd_V, Ki_V\n",
    "\n",
    "        params_V = konB_V, koffB_V, paramsDelta_V, km_V, kaiA0_V, paramsk0_V, paramskact_V, params_vivo_V\n",
    "        try:\n",
    "            xs = solve_ivp(dCdt_wt_2,[0,tmax],xs_init_specific,args=(params_V,), events=hit_ground)\n",
    "            feedback = np.mean(xs.y[:,0])\n",
    "            kaictot_v = np.sum(xs.y.T[:,0:-1],axis=1)\n",
    "            perc_phospho_kaic = np.dot(xs.y.T[:,0:-1],full_phospohate)/kaictot_v/n\n",
    "\n",
    "            myperiod = estimate_period(perc_phospho_kaic,xs.t)\n",
    "            print('period ',myperiod,'feedback ', feedback)\n",
    "            if (1 < myperiod <100):\n",
    "                line = '%d,%d,%.3E' % (x[0],x[1],myperiod,feedback) +  '\\n'\n",
    "                return line\n",
    "            else:\n",
    "                line =  '%d,%d,%.3E' % (x[0],x[1],np.nan,feedback) +  '\\n'\n",
    "                return line\n",
    "        except:\n",
    "            print('i coudn t run it')\n",
    "            myperiod = -1\n"
   ]
  },
  {
   "cell_type": "markdown",
   "id": "36f97f7e",
   "metadata": {
    "heading_collapsed": true
   },
   "source": [
    "## Looking at feedback value"
   ]
  },
  {
   "cell_type": "code",
   "execution_count": 15,
   "id": "682ddb3d",
   "metadata": {
    "hidden": true
   },
   "outputs": [
    {
     "data": {
      "text/plain": [
       "<matplotlib.legend.Legend at 0x7febd4d2b450>"
      ]
     },
     "execution_count": 15,
     "metadata": {},
     "output_type": "execute_result"
    },
    {
     "data": {
      "image/png": "[encoded data removed]",
      "text/plain": [
       "<Figure size 432x288 with 1 Axes>"
      ]
     },
     "metadata": {
      "needs_background": "light"
     },
     "output_type": "display_data"
    }
   ],
   "source": [
    "Ki_V=1\n",
    "xx = np.logspace(-3,1,10)\n",
    "plt.plot(xx,Vs_V*Ki_V**4/(Ki_V**4+xx**4),label='wt')\n",
    "plt.axhline(y=Vsptr_V,linestyle='--',label='ptr only')\n",
    "plt.ylabel('mRNA prod rate')\n",
    "plt.xlabel('mean feedback')\n",
    "plt.xscale('log')\n",
    "plt.yscale('log')\n",
    "plt.legend()"
   ]
  },
  {
   "cell_type": "code",
   "execution_count": 55,
   "id": "c20b46f0",
   "metadata": {
    "hidden": true
   },
   "outputs": [],
   "source": [
    "#mean feedback should be above 1 for similar mRNA production rates in wt and ptr mutant. "
   ]
  },
  {
   "cell_type": "markdown",
   "id": "acc67fc8",
   "metadata": {
    "heading_collapsed": true
   },
   "source": [
    "# Test multiprocessing "
   ]
  },
  {
   "cell_type": "code",
   "execution_count": 41,
   "id": "45d29051",
   "metadata": {
    "hidden": true
   },
   "outputs": [],
   "source": [
    "a = 1.2\n",
    "b = 3.2"
   ]
  },
  {
   "cell_type": "code",
   "execution_count": 42,
   "id": "19de3693",
   "metadata": {
    "hidden": true
   },
   "outputs": [
    {
     "data": {
      "text/plain": [
       "[((0, 0), 1.2, 3.2), ((0, 1), 1.2, 3.2), ((1, 0), 1.2, 3.2)]"
      ]
     },
     "execution_count": 42,
     "metadata": {},
     "output_type": "execute_result"
    }
   ],
   "source": [
    "parameters_grid = [((0,0),a,b),((0,1),a,b),((1,0),a,b)]\n",
    "parameters_grid"
   ]
  },
  {
   "cell_type": "code",
   "execution_count": 44,
   "id": "17a052e4",
   "metadata": {
    "hidden": true
   },
   "outputs": [
    {
     "name": "stdout",
     "output_type": "stream",
     "text": [
      "hello test (0, 1)\n",
      "line 0,4\n",
      "\n",
      "hello test (1, 0)\n",
      "line 1,3\n",
      "\n",
      "hello test (0, 0)\n",
      "line 0,3\n",
      "\n"
     ]
    }
   ],
   "source": [
    "from cyano_clock_models_args import test_f\n",
    "if __name__ == '__main__':\n",
    "    with multiprocessing.Pool(number_of_cores) as p:\n",
    "        myoutput = p.map(test_f, parameters_grid) #scan2d_invivo\n",
    "    file = './results/test-multiprocess.txt'#'./results/2dscan_invivo_vub\n",
    "    open(file, 'a+') \n",
    "    with open(file, 'w') as f:\n",
    "        f.write(''.join(myoutput))"
   ]
  },
  {
   "cell_type": "code",
   "execution_count": 46,
   "id": "dac86bd7",
   "metadata": {
    "hidden": true
   },
   "outputs": [],
   "source": [
    "\n",
    "\n",
    "parameters_grid = [(0,0),(0,1),(1,0)]\n",
    "parameters_grid_new = parameters_grid\n",
    "nbr_paramter_sets = len(parameters_grid)\n",
    "for kk in range(nbr_paramter_sets):\n",
    "    parameters_grid_new[kk] = (parameters_grid[kk],2.3)"
   ]
  },
  {
   "cell_type": "code",
   "execution_count": 47,
   "id": "4f5a5263",
   "metadata": {
    "hidden": true
   },
   "outputs": [
    {
     "data": {
      "text/plain": [
       "[((0, 0), 2.3), ((0, 1), 2.3), ((1, 0), 2.3)]"
      ]
     },
     "execution_count": 47,
     "metadata": {},
     "output_type": "execute_result"
    }
   ],
   "source": [
    " parameters_grid_new"
   ]
  },
  {
   "cell_type": "code",
   "execution_count": null,
   "id": "3a388904",
   "metadata": {
    "hidden": true
   },
   "outputs": [],
   "source": []
  }
 ],
 "metadata": {
  "kernelspec": {
   "display_name": "Python 3 (ipykernel)",
   "language": "python",
   "name": "python3"
  },
  "language_info": {
   "codemirror_mode": {
    "name": "ipython",
    "version": 3
   },
   "file_extension": ".py",
   "mimetype": "text/x-python",
   "name": "python",
   "nbconvert_exporter": "python",
   "pygments_lexer": "ipython3",
   "version": "3.9.7"
  },
  "latex_envs": {
   "LaTeX_envs_menu_present": true,
   "autoclose": false,
   "autocomplete": true,
   "bibliofile": "biblio.bib",
   "cite_by": "apalike",
   "current_citInitial": 1,
   "eqLabelWithNumbers": true,
   "eqNumInitial": 1,
   "hotkeys": {
    "equation": "Ctrl-E",
    "itemize": "Ctrl-I"
   },
   "labels_anchors": false,
   "latex_user_defs": false,
   "report_style_numbering": false,
   "user_envs_cfg": false
  },
  "toc": {
   "base_numbering": 1,
   "nav_menu": {},
   "number_sections": true,
   "sideBar": true,
   "skip_h1_title": false,
   "title_cell": "Table of Contents",
   "title_sidebar": "Contents",
   "toc_cell": false,
   "toc_position": {},
   "toc_section_display": true,
   "toc_window_display": false
  }
 },
 "nbformat": 4,
 "nbformat_minor": 5
}
